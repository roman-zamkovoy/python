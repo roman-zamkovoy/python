{
 "cells": [
  {
   "cell_type": "code",
   "execution_count": 8,
   "id": "persistent-share",
   "metadata": {
    "scrolled": true
   },
   "outputs": [
    {
     "name": "stdout",
     "output_type": "stream",
     "text": [
      "Looking in links: https://download.pytorch.org/whl/torch_stable.html\n",
      "Note: you may need to restart the kernel to use updated packages.\n"
     ]
    },
    {
     "name": "stderr",
     "output_type": "stream",
     "text": [
      "ERROR: Could not find a version that satisfies the requirement torch==1.2.0+cpu\n",
      "ERROR: No matching distribution found for torch==1.2.0+cpu\n"
     ]
    }
   ],
   "source": [
    "pip install torch==1.2.0+cpu torchvision==0.4.0+cpu -f https://download.pytorch.org/whl/torch_stable.html"
   ]
  },
  {
   "cell_type": "code",
   "execution_count": 1,
   "id": "occupational-solomon",
   "metadata": {
    "scrolled": true
   },
   "outputs": [
    {
     "ename": "ModuleNotFoundError",
     "evalue": "No module named 'torch'",
     "output_type": "error",
     "traceback": [
      "\u001b[1;31m---------------------------------------------------------------------------\u001b[0m",
      "\u001b[1;31mModuleNotFoundError\u001b[0m                       Traceback (most recent call last)",
      "\u001b[1;32m<ipython-input-1-4d5a4839fba3>\u001b[0m in \u001b[0;36m<module>\u001b[1;34m\u001b[0m\n\u001b[0;32m      6\u001b[0m \u001b[1;32mfrom\u001b[0m \u001b[0msklearn\u001b[0m\u001b[1;33m.\u001b[0m\u001b[0mmodel_selection\u001b[0m \u001b[1;32mimport\u001b[0m \u001b[0mtrain_test_split\u001b[0m\u001b[1;33m\u001b[0m\u001b[1;33m\u001b[0m\u001b[0m\n\u001b[0;32m      7\u001b[0m \u001b[1;33m\u001b[0m\u001b[0m\n\u001b[1;32m----> 8\u001b[1;33m \u001b[1;32mimport\u001b[0m \u001b[0mtorch\u001b[0m\u001b[1;33m\u001b[0m\u001b[1;33m\u001b[0m\u001b[0m\n\u001b[0m\u001b[0;32m      9\u001b[0m \u001b[1;32mimport\u001b[0m \u001b[0mtorch\u001b[0m\u001b[1;33m.\u001b[0m\u001b[0mnn\u001b[0m \u001b[1;32mas\u001b[0m \u001b[0mnn\u001b[0m\u001b[1;33m\u001b[0m\u001b[1;33m\u001b[0m\u001b[0m\n\u001b[0;32m     10\u001b[0m \u001b[1;32mimport\u001b[0m \u001b[0mtorch\u001b[0m\u001b[1;33m.\u001b[0m\u001b[0moptim\u001b[0m \u001b[1;32mas\u001b[0m \u001b[0moptim\u001b[0m\u001b[1;33m\u001b[0m\u001b[1;33m\u001b[0m\u001b[0m\n",
      "\u001b[1;31mModuleNotFoundError\u001b[0m: No module named 'torch'"
     ]
    }
   ],
   "source": [
    "import pandas as pd \n",
    "import numpy as np\n",
    "import glob\n",
    "from tqdm import tqdm\n",
    "import cv2\n",
    "from sklearn.model_selection import train_test_split\n",
    "\n",
    "import torch\n",
    "import torch.nn as nn\n",
    "import torch.optim as optim\n",
    "from torch.utils.data import Dataset\n",
    "from torchvision import datasets, models, transforms\n",
    "from torchvision.models import resnet18\n",
    "\n",
    "from PIL import Image\n",
    "import matplotlib.pyplot as plt\n",
    "from IPython.display import clear_output\n",
    "\n",
    "df = pd.read_csv('train.csv')"
   ]
  },
  {
   "cell_type": "code",
   "execution_count": null,
   "id": "loose-fields",
   "metadata": {},
   "outputs": [],
   "source": [
    "df.head()"
   ]
  },
  {
   "cell_type": "code",
   "execution_count": null,
   "id": "single-wilson",
   "metadata": {},
   "outputs": [],
   "source": [
    "df['label'].value_counts()"
   ]
  },
  {
   "cell_type": "markdown",
   "id": "variable-particle",
   "metadata": {},
   "source": [
    "Сбалансированная выборка"
   ]
  },
  {
   "cell_type": "code",
   "execution_count": null,
   "id": "inclusive-ghost",
   "metadata": {},
   "outputs": [],
   "source": [
    "fig, axs = plt.subplots(2, 4, figsize=(16,8))\n",
    "fig.suptitle(f'True images {\" \"*105} Fake images', fontsize=14)\n",
    "\n",
    "for i, name in zip(range(4), df[df['label'] == 0 ].sample(4, random_state=42)['name']):\n",
    "    axs[i // 2, (i % 2)].imshow(plt.imread(f\"data256/train/{name}\"))\n",
    "    axs[i // 2, (i % 2)].axis('off')\n",
    "\n",
    "for i, name in zip(range(4), df[df['label'] == 1 ].sample(4, random_state=42)['name']):\n",
    "    axs[i // 2, (i % 2)+2].imshow(plt.imread(f\"data256/train/{name}\"))\n",
    "    axs[i // 2, (i % 2)+2].axis('off')\n",
    "\n",
    "fig.tight_layout()\n",
    "fig.subplots_adjust(top=0.88)"
   ]
  },
  {
   "cell_type": "markdown",
   "id": "electric-storm",
   "metadata": {},
   "source": [
    "Создадим константное предсказание."
   ]
  },
  {
   "cell_type": "code",
   "execution_count": null,
   "id": "olive-deposit",
   "metadata": {},
   "outputs": [],
   "source": [
    "test_paths = glob.glob(\"data256/test/*.png\")\n",
    "test_names = [t_path.split('/')[-1] for t_path in test_paths]"
   ]
  },
  {
   "cell_type": "code",
   "execution_count": null,
   "id": "coral-thought",
   "metadata": {},
   "outputs": [],
   "source": [
    "const_predict = 0\n",
    "submit_df = pd.DataFrame([[name, pred] for name, pred in zip(test_names, pd.Series([const_predict for i in range(12000)]))], columns=['name', 'pred'])"
   ]
  },
  {
   "cell_type": "code",
   "execution_count": null,
   "id": "female-protest",
   "metadata": {},
   "outputs": [],
   "source": [
    "submit_df.head(10)"
   ]
  },
  {
   "cell_type": "markdown",
   "id": "collected-diagram",
   "metadata": {},
   "source": [
    "Сортируем по имени картинки (не знаю зачем, но так написано в таске)"
   ]
  },
  {
   "cell_type": "code",
   "execution_count": null,
   "id": "minor-villa",
   "metadata": {},
   "outputs": [],
   "source": [
    "submit_df = submit_df.sort_values(['name'])"
   ]
  },
  {
   "cell_type": "markdown",
   "id": "standing-license",
   "metadata": {},
   "source": [
    "Сохраняем результаты в файлик submit.csv , файл появится в рабочей папке.\n",
    "\n",
    "Далее загружаем его на сайт соревнования."
   ]
  },
  {
   "cell_type": "code",
   "execution_count": null,
   "id": "crazy-keyboard",
   "metadata": {},
   "outputs": [],
   "source": [
    "submit_df.to_csv(\"submit.csv\", index=False)"
   ]
  }
 ],
 "metadata": {
  "kernelspec": {
   "display_name": "Python 3",
   "language": "python",
   "name": "python3"
  },
  "language_info": {
   "codemirror_mode": {
    "name": "ipython",
    "version": 3
   },
   "file_extension": ".py",
   "mimetype": "text/x-python",
   "name": "python",
   "nbconvert_exporter": "python",
   "pygments_lexer": "ipython3",
   "version": "3.8.2"
  }
 },
 "nbformat": 4,
 "nbformat_minor": 5
}
